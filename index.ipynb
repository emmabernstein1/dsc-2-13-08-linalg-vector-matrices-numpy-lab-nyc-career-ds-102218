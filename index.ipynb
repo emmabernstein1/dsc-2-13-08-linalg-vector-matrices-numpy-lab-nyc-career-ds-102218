{
 "cells": [
  {
   "cell_type": "markdown",
   "metadata": {},
   "source": [
    "# Vectors and Matrices in Numpy - Lab\n",
    "\n",
    "## Introduction\n",
    "\n",
    "This lab will ask you to perform some simple matrix creation and manipulation exercises based on what we have covered so far in this section. The key takeaway here for you is to be able to understand how to using indexing with matrices and vectors while applying some basic operations.\n",
    "\n",
    "## Objectives\n",
    "You will be able to:\n",
    "* Define vectors and matrices in NumPy\n",
    "* Check the shape of vectors and matrices\n",
    "* Access and manipulate individual scalar components of a matrix. "
   ]
  },
  {
   "cell_type": "markdown",
   "metadata": {},
   "source": [
    "## 1. Define two arrays A (4x2) and B (2x3) \n",
    "```\n",
    "A = 1402, 191 \n",
    "    1371, 821 \n",
    "    949, 1437\n",
    "    147, 1448\n",
    "    \n",
    "B = 1, 2, 3\n",
    "    4, 5, 6\n",
    "    ```"
   ]
  },
  {
   "cell_type": "code",
   "execution_count": 5,
   "metadata": {},
   "outputs": [
    {
     "name": "stdout",
     "output_type": "stream",
     "text": [
      "[[1402  191]\n",
      " [1371  821]\n",
      " [ 949 1437]\n",
      " [ 147 1448]]\n",
      "[[1 2 3]\n",
      " [4 5 6]]\n"
     ]
    }
   ],
   "source": [
    "import pandas as pd\n",
    "import numpy as np\n",
    "\n",
    "A = np.array([[1402, 191], [1371, 821], [949, 1437], [147, 1448]])\n",
    "\n",
    "B = np.array([[1, 2, 3], [4, 5, 6]])\n",
    "\n",
    "print(A)\n",
    "print(B)"
   ]
  },
  {
   "cell_type": "markdown",
   "metadata": {},
   "source": [
    "## 2. Print the dimensions of A and B "
   ]
  },
  {
   "cell_type": "code",
   "execution_count": 7,
   "metadata": {},
   "outputs": [
    {
     "name": "stdout",
     "output_type": "stream",
     "text": [
      "(4, 2)\n",
      "(2, 3)\n"
     ]
    }
   ],
   "source": [
    "print(A.shape)\n",
    "print(B.shape)"
   ]
  },
  {
   "cell_type": "markdown",
   "metadata": {},
   "source": [
    "## 3. Print some of the elements from A at following locations\n",
    "* first row and first column\n",
    "* first row and second column\n",
    "* third row and second column\n",
    "* fourth row and first column"
   ]
  },
  {
   "cell_type": "code",
   "execution_count": 11,
   "metadata": {},
   "outputs": [
    {
     "name": "stdout",
     "output_type": "stream",
     "text": [
      "1402\n",
      "191\n",
      "1437\n",
      "147\n"
     ]
    }
   ],
   "source": [
    "r1_c1 = A[0, 0]\n",
    "r1_c2 = A[0, 1]\n",
    "r3_c2 = A[2, 1]\n",
    "r4_c1 = A[3, 0]\n",
    "\n",
    "print(r1_c1)\n",
    "print(r1_c2)\n",
    "print(r3_c2)\n",
    "print(r4_c1)"
   ]
  },
  {
   "cell_type": "markdown",
   "metadata": {},
   "source": [
    "## 4. Write a routine to populate matrix with random data\n",
    "* Create an 3x3 numpy array with all zeros (use `np.zeros()`)\n",
    "* Access each location i,j of this matrix and fill in random values between the range 1 and 10. "
   ]
  },
  {
   "cell_type": "code",
   "execution_count": 17,
   "metadata": {},
   "outputs": [
    {
     "name": "stdout",
     "output_type": "stream",
     "text": [
      "before random data:\n",
      " [[0. 0. 0.]\n",
      " [0. 0. 0.]\n",
      " [0. 0. 0.]]\n",
      "\n",
      "after random data:\n",
      " [[7. 6. 6.]\n",
      " [8. 3. 9.]\n",
      " [2. 9. 9.]]\n"
     ]
    }
   ],
   "source": [
    "# Code Here (due to random data , your output might be different)\n",
    "import random\n",
    "\n",
    "M = np.zeros((3, 3))\n",
    "print ('before random data:\\n',M)\n",
    "\n",
    "for x in range(0, M.shape[0]):\n",
    "    for y in range(0, M.shape[1]):\n",
    "        M[x][y] = random.randrange(1, 10) \n",
    "print ('\\nafter random data:\\n',M)"
   ]
  },
  {
   "cell_type": "markdown",
   "metadata": {},
   "source": [
    "## 5. Turn above routine into a function.\n",
    "* Create two 4x4 zero valued matrices and fill with random data using the function\n",
    "* Add the matrices together in numpy \n",
    "* Show the results"
   ]
  },
  {
   "cell_type": "code",
   "execution_count": 27,
   "metadata": {},
   "outputs": [
    {
     "name": "stdout",
     "output_type": "stream",
     "text": [
      "matrix 1:\n",
      " [[7. 3. 4. 9.]\n",
      " [4. 8. 2. 7.]\n",
      " [7. 1. 5. 6.]\n",
      " [1. 8. 7. 2.]]\n",
      "\n",
      "matrix 2:\n",
      " [[8. 6. 2. 6.]\n",
      " [5. 9. 8. 4.]\n",
      " [8. 1. 9. 4.]\n",
      " [3. 5. 3. 5.]]\n",
      "\n",
      "matrix 1 + matrix 2:\n",
      " [[15.  9.  6. 15.]\n",
      " [ 9. 17. 10. 11.]\n",
      " [15.  2. 14. 10.]\n",
      " [ 4. 13. 10.  7.]]\n"
     ]
    }
   ],
   "source": [
    "def random_matrix(dim_x, dim_y):\n",
    "    M = np.zeros((dim_x, dim_y))\n",
    "    for x in range(0, dim_x):\n",
    "        for y in range(0, dim_y):\n",
    "            M[x][y] = random.randrange(1, 10)\n",
    "    return M\n",
    "\n",
    "r1 = random_matrix(4, 4)\n",
    "r2 = random_matrix(4, 4)\n",
    "\n",
    "print('matrix 1:\\n', r1)\n",
    "print('\\nmatrix 2:\\n', r2)\n",
    "print('\\nmatrix 1 + matrix 2:\\n', r1+r2)"
   ]
  },
  {
   "cell_type": "markdown",
   "metadata": {},
   "source": [
    "## Summary \n",
    "\n",
    "In this lab, we saw how to create and manipulate vectors and matrices in numpy. We shall now move forward to learning more complex operations including dot products and inverses. "
   ]
  }
 ],
 "metadata": {
  "kernelspec": {
   "display_name": "Python 3",
   "language": "python",
   "name": "python3"
  },
  "language_info": {
   "codemirror_mode": {
    "name": "ipython",
    "version": 3
   },
   "file_extension": ".py",
   "mimetype": "text/x-python",
   "name": "python",
   "nbconvert_exporter": "python",
   "pygments_lexer": "ipython3",
   "version": "3.6.6"
  }
 },
 "nbformat": 4,
 "nbformat_minor": 2
}
